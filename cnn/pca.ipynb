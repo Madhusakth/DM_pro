{
 "cells": [
  {
   "cell_type": "markdown",
   "metadata": {},
   "source": [
    "# Import"
   ]
  },
  {
   "cell_type": "code",
   "execution_count": 59,
   "metadata": {},
   "outputs": [],
   "source": [
    "import glob\n",
    "import os\n",
    "\n",
    "import matplotlib.pyplot as plt\n",
    "import plotly.offline as py\n",
    "import plotly.graph_objs as go\n",
    "import numpy as np\n",
    "import pandas as pd\n",
    "\n",
    "from PIL import Image\n",
    "from sklearn.decomposition import PCA\n",
    "from sklearn.pipeline import Pipeline, FeatureUnion\n",
    "from sklearn.model_selection import train_test_split\n",
    "from sklearn import preprocessing\n",
    "from mpl_toolkits.mplot3d import Axes3D"
   ]
  },
  {
   "cell_type": "code",
   "execution_count": 2,
   "metadata": {},
   "outputs": [],
   "source": [
    "import warnings\n",
    "warnings.filterwarnings('ignore')"
   ]
  },
  {
   "cell_type": "markdown",
   "metadata": {},
   "source": [
    "# Load Input Data"
   ]
  },
  {
   "cell_type": "code",
   "execution_count": 4,
   "metadata": {},
   "outputs": [],
   "source": [
    "def read_image_array(image_path):\n",
    "    im = Image.open(image_path).convert('L')\n",
    "    im_data = np.asarray(im).ravel()\n",
    "    im_data = im_data\n",
    "    return im_data\n",
    "\n",
    "def read_image_list(image_path):\n",
    "    im = Image.open(image_path).convert('L')\n",
    "    im_data = list(im.getdata())\n",
    "    return im_data\n",
    "\n",
    "def plot_image(image_array):\n",
    "    plt.figure()\n",
    "    plt.imshow(image_array.reshape(256, -1), cmap=plt.get_cmap('gray'))"
   ]
  },
  {
   "cell_type": "code",
   "execution_count": 82,
   "metadata": {},
   "outputs": [],
   "source": [
    "pixels = 256 * 256\n",
    "data_limit = 4000"
   ]
  },
  {
   "cell_type": "code",
   "execution_count": 83,
   "metadata": {},
   "outputs": [],
   "source": [
    "label_train_data = pd.read_csv(os.getcwd() + '\\\\..\\\\data\\\\train.csv', index_col='id')\n",
    "label_test_data = pd.read_csv(os.getcwd() + '\\\\..\\\\data\\\\test.csv', index_col='id')"
   ]
  },
  {
   "cell_type": "code",
   "execution_count": 84,
   "metadata": {},
   "outputs": [],
   "source": [
    "image_train_file_list = glob.glob(os.getcwd() + '\\\\..\\\\data\\\\train\\\\' + \"*.jpg\")\n",
    "image_train_data = []\n",
    "for index, image_path in enumerate(image_train_file_list):\n",
    "    image_name = image_path.split('\\\\')[-1]\n",
    "    data = [image_path.split('\\\\')[-1]] + read_image_list(image_path) + [label_train_data.loc[image_name.split('.')[0]]['landmark_id']]\n",
    "    image_train_data.append(data)\n",
    "\n",
    "    if (data_limit > 0 or data_limit is not False) and index + 1 >= data_limit:\n",
    "        break\n",
    "\n",
    "image_test_file_list = glob.glob(os.getcwd() + '\\\\..\\\\data\\\\test\\\\' + \"*.jpg\")\n",
    "image_test_data = []\n",
    "for index, image_path in enumerate(image_test_file_list):\n",
    "    image_name = image_path.split('\\\\')[-1]\n",
    "    data = [image_path.split('\\\\')[-1]] + read_image_list(image_path)\n",
    "    image_test_data.append(data)\n",
    "\n",
    "    if (data_limit > 0 or data_limit is not False) and index + 1 >= data_limit:\n",
    "        break"
   ]
  },
  {
   "cell_type": "code",
   "execution_count": 85,
   "metadata": {},
   "outputs": [
    {
     "name": "stdout",
     "output_type": "stream",
     "text": [
      "(4000, 65538)\n",
      "(149, 65537)\n"
     ]
    }
   ],
   "source": [
    "column_names = ['filename'] + ['X%s' % i for i in range(1, pixels + 1)] + ['landmark_id']\n",
    "\n",
    "image_train_data = pd.DataFrame(data=image_train_data, columns=column_names)\n",
    "image_train_data.set_index('filename')\n",
    "image_test_data = pd.DataFrame(data=image_test_data, columns=column_names[:-1])\n",
    "image_test_data.set_index('filename')\n",
    "\n",
    "print(image_train_data.shape)\n",
    "print(image_test_data.shape)"
   ]
  },
  {
   "cell_type": "code",
   "execution_count": 99,
   "metadata": {},
   "outputs": [],
   "source": [
    "# X_train, X_test, y_train, y_test = train_test_split(image_train_data[['X%s' % i for i in range(1, pixels + 1)]].values,\n",
    "#                                                     image_train_data['landmark_id'].values)\n",
    "\n",
    "X_train = image_train_data[['X%s' % i for i in range(1, pixels + 1)]].values\n",
    "y_train = image_train_data['landmark_id'].values"
   ]
  },
  {
   "cell_type": "markdown",
   "metadata": {},
   "source": [
    "# Preprocessing"
   ]
  },
  {
   "cell_type": "code",
   "execution_count": 87,
   "metadata": {},
   "outputs": [],
   "source": [
    "numerical_pipeline = Pipeline([\n",
    "    ('std_scaler', preprocessing.StandardScaler())\n",
    "])\n",
    "\n",
    "preprocess_machine = FeatureUnion(transformer_list=[\n",
    "    ('numerical_pipeline', numerical_pipeline)\n",
    "])"
   ]
  },
  {
   "cell_type": "code",
   "execution_count": 100,
   "metadata": {},
   "outputs": [],
   "source": [
    "X_train = preprocess_machine.fit_transform(X_train)\n",
    "X_test = preprocess_machine.fit_transform(X_test)"
   ]
  },
  {
   "cell_type": "markdown",
   "metadata": {},
   "source": [
    "# PCA"
   ]
  },
  {
   "cell_type": "code",
   "execution_count": 106,
   "metadata": {},
   "outputs": [],
   "source": [
    "pca = PCA(n_components=10)\n",
    "X_r = pca.fit(X_train).transform(X_train)"
   ]
  },
  {
   "cell_type": "code",
   "execution_count": 107,
   "metadata": {},
   "outputs": [
    {
     "name": "stdout",
     "output_type": "stream",
     "text": [
      "(4000, 10)\n"
     ]
    },
    {
     "data": {
      "image/png": "[encoded data removed]",
      "text/plain": [
       "<Figure size 432x288 with 1 Axes>"
      ]
     },
     "metadata": {},
     "output_type": "display_data"
    }
   ],
   "source": [
    "print(X_r.shape)\n",
    "\n",
    "plt.figure()\n",
    "plt.scatter(X_r[:, 0], X_r[:, 1])\n",
    "plt.show()"
   ]
  },
  {
   "cell_type": "code",
   "execution_count": 108,
   "metadata": {
    "scrolled": true
   },
   "outputs": [
    {
     "data": {
      "text/plain": [
       "'file://C:\\\\Users\\\\yosef\\\\Desktop\\\\Project\\\\DM_pro_local\\\\scratch\\\\temp-plot.html'"
      ]
     },
     "execution_count": 108,
     "metadata": {},
     "output_type": "execute_result"
    }
   ],
   "source": [
    "data = [\n",
    "    go.Scatter3d(\n",
    "        x=X_r[:, 0],\n",
    "        y=X_r[:, 1],\n",
    "        z=X_r[:, 2],\n",
    "        mode='markers',\n",
    "        marker=dict(\n",
    "            size=2\n",
    "        ))\n",
    "]\n",
    "layout = go.Layout()\n",
    "fig = go.Figure(data=data, layout=layout)\n",
    "py.plot(fig)"
   ]
  }
 ],
 "metadata": {
  "kernelspec": {
   "display_name": "Python 3",
   "language": "python",
   "name": "python3"
  },
  "language_info": {
   "codemirror_mode": {
    "name": "ipython",
    "version": 3
   },
   "file_extension": ".py",
   "mimetype": "text/x-python",
   "name": "python",
   "nbconvert_exporter": "python",
   "pygments_lexer": "ipython3",
   "version": "3.6.2"
  }
 },
 "nbformat": 4,
 "nbformat_minor": 1
}
