{
 "cells": [
  {
   "cell_type": "code",
   "execution_count": 2,
   "metadata": {},
   "outputs": [
    {
     "name": "stdout",
     "output_type": "stream",
     "text": [
      "Preprocessing Images\n",
      "Transforming\n",
      "(1199, 3313)\n",
      "Done!\n"
     ]
    }
   ],
   "source": [
    "import csv\n",
    "import numpy as np\n",
    "from PIL import Image\n",
    "import os, os.path\n",
    "from sklearn.model_selection import train_test_split\n",
    "import operator\n",
    "\n",
    "inputs = []\n",
    "train_Y = []\n",
    "\n",
    "print('Preprocessing Images')\n",
    "csvfile = open('../train.csv', 'r')\n",
    "csvreader = csv.reader(csvfile)\n",
    "data = [line[:3] for line in csvreader]\n",
    "data = data[1:]\n",
    "data = sorted(data, key=operator.itemgetter(0))\n",
    "i = 0\n",
    "\n",
    "path = '../training-images'\n",
    "for filename in os.listdir(path):\n",
    "    entry = int(data[i][2])\n",
    "    if entry > 150 or entry < 0:\n",
    "        i = i + 1\n",
    "        continue\n",
    "\n",
    "    try:\n",
    "        im = Image.open(os.path.join(path, filename)).convert('L')\n",
    "        im_data = list(im.getdata())\n",
    "        arr = np.array(im)\n",
    "        #arr = arr[:,:,0]\n",
    "        arr = arr.astype('float16')\n",
    "        arr = arr / 255.\n",
    "        inputs.append(im_data)\n",
    "        train_Y.append(entry)\n",
    "        i = i + 1\n",
    "    except Exception as e:\n",
    "        print('Can not identify file %s' %(filename))\n",
    "        i = i + 1\n",
    "\n",
    "train_X = np.array(inputs)\n",
    "print(\"Transforming\")\n",
    "#train_X = train_X.reshape(-1, 256, 256, 1)\n",
    "\n",
    "train_X_1,test_X,train_label_1,test_label = train_test_split(train_X, train_Y, test_size=0.2, random_state=42)\n",
    "train_X_2,valid_X,train_label,valid_label = train_test_split(train_X_1, train_label_1, test_size=0.2, random_state=42)\n",
    "\n",
    "from sklearn.decomposition import PCA\n",
    "pca = PCA(0.99)\n",
    "X_pca_train = pca.fit_transform(train_X_2)\n",
    "X_pca_test = pca.transform(test_X)\n",
    "X_pca_valid = pca.transform(valid_X)\n",
    "\n",
    "print(X_pca_valid.shape)\n",
    "\n",
    "from sklearn.datasets import dump_svmlight_file\n",
    "dump_svmlight_file(X_pca_train,train_label,'150train-30apr.input', zero_based=True, multilabel=False)\n",
    "dump_svmlight_file(X_pca_valid,valid_label,'150valid-30apr.input', zero_based=True, multilabel=False)\n",
    "dump_svmlight_file(X_pca_test,test_label,'150test-30apr.input', zero_based=True, multilabel=False)\n",
    "print(\"Done!\")"
   ]
  },
  {
   "cell_type": "code",
   "execution_count": null,
   "metadata": {
    "collapsed": true
   },
   "outputs": [],
   "source": []
  }
 ],
 "metadata": {
  "kernelspec": {
   "display_name": "Python 3",
   "language": "python",
   "name": "python3"
  },
  "language_info": {
   "codemirror_mode": {
    "name": "ipython",
    "version": 3
   },
   "file_extension": ".py",
   "mimetype": "text/x-python",
   "name": "python",
   "nbconvert_exporter": "python",
   "pygments_lexer": "ipython3",
   "version": "3.6.3"
  }
 },
 "nbformat": 4,
 "nbformat_minor": 2
}
