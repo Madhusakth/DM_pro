{
 "cells": [
  {
   "cell_type": "code",
   "execution_count": 5,
   "metadata": {},
   "outputs": [
    {
     "name": "stdout",
     "output_type": "stream",
     "text": [
      "165 1119\n",
      "233 1122\n",
      "428 2234\n"
     ]
    }
   ],
   "source": [
    "counter=0\n",
    "import re\n",
    "result=[]\n",
    "import string\n",
    "\n",
    "with open(\"trainl\") as f:\n",
    "    for line in f:\n",
    "        dict={}\n",
    "        counter=counter+1\n",
    "       # print(counter)\n",
    "        if(counter>1):\n",
    "            #print(line)\n",
    "            temp=line.split()\n",
    "            for i in range(len(temp)):\n",
    "                twoword=re.split('[-:]', temp[i])\n",
    "                dict.update({twoword[0]:twoword[1]})\n",
    "            result.append(max(dict.items(), key = lambda x: x[1])[0])\n",
    "#print(result)\n",
    "mine=[]\n",
    "mine=[0]*1001\n",
    "\n",
    "for i in range(len(result)):\n",
    "    temp=result[i]\n",
    "    #print(int(temp))\n",
    "    mine[int(temp)]=mine[int(temp)]+1\n",
    "for i in range(len(mine)):\n",
    "    if(mine[i]>1000):\n",
    "        print(i, mine[i])\n"
   ]
  }
 ],
 "metadata": {
  "kernelspec": {
   "display_name": "Python 3",
   "language": "python",
   "name": "python3"
  },
  "language_info": {
   "codemirror_mode": {
    "name": "ipython",
    "version": 3
   },
   "file_extension": ".py",
   "mimetype": "text/x-python",
   "name": "python",
   "nbconvert_exporter": "python",
   "pygments_lexer": "ipython3",
   "version": "3.6.4"
  }
 },
 "nbformat": 4,
 "nbformat_minor": 2
}
