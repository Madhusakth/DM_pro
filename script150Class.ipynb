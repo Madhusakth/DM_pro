{
 "cells": [
  {
   "cell_type": "code",
   "execution_count": 17,
   "metadata": {},
   "outputs": [
    {
     "name": "stdout",
     "output_type": "stream",
     "text": [
      "Preprocessing Images\n",
      "(5642, 65536)\n",
      "(4513, 65536)\n",
      "(1129, 65536)\n"
     ]
    }
   ],
   "source": [
    "import csv\n",
    "import numpy as np\n",
    "from PIL import Image\n",
    "import os, os.path\n",
    "from sklearn.model_selection import train_test_split\n",
    "\n",
    "inputs = []\n",
    "train_Y = []\n",
    "\n",
    "print('Preprocessing Images')\n",
    "csvfile = open('../train.csv', 'r')\n",
    "csvreader = csv.reader(csvfile)\n",
    "data = [line[:3] for line in csvreader]\n",
    "data = data[1:]\n",
    "i = 0\n",
    "\n",
    "path = '../training-images'\n",
    "for filename in os.listdir(path):\n",
    "    entry = int(data[i][2])\n",
    "    if entry > 150 or entry < 0:\n",
    "        i = i + 1\n",
    "        continue\n",
    "\n",
    "    try:\n",
    "        im = Image.open(os.path.join(path, filename)).convert('L')\n",
    "        im_data = list(im.getdata())\n",
    "        #arr = np.array(im)\n",
    "        #arr = arr[:,:,0]\n",
    "        #arr = arr.astype('float16')\n",
    "        #arr = arr / 255.\n",
    "        inputs.append(im_data)\n",
    "        train_Y.append(entry)\n",
    "        i = i + 1\n",
    "    except Exception as e:\n",
    "        print('Can not identify file %s' %(filename))\n",
    "        i = i + 1\n",
    "\n",
    "train_X = np.array(inputs)\n",
    "print(train_X.shape)\n",
    "#train_X = train_X.reshape(-1, 256, 256, 1)\n",
    "\n",
    "train_X,valid_X,train_label,valid_label = train_test_split(train_X, train_Y, test_size=0.2, random_state=13)\n",
    "\n",
    "print(train_X.shape)\n",
    "print(valid_X.shape)\n",
    "\n",
    "from sklearn.decomposition import PCA\n",
    "pca = PCA(n_components=20)\n",
    "pca = pca.fit(train_X)\n",
    "X_pca_train = pca.transform(train_X)\n",
    "X_pca_valid = pca.transform(valid_X)"
   ]
  },
  {
   "cell_type": "code",
   "execution_count": null,
   "metadata": {},
   "outputs": [],
   "source": [
    "from matplotlib import pyplot as plt\n",
    "import numpy as np\n",
    "plt.plot(np.cumsum(pca.explained_variance_ratio_))"
   ]
  },
  {
   "cell_type": "code",
   "execution_count": 18,
   "metadata": {
    "collapsed": true
   },
   "outputs": [],
   "source": [
    "\n",
    "from sklearn.datasets import dump_svmlight_file\n",
    "dump_svmlight_file(X_pca_train,train_label,'train.input', multilabel=False)"
   ]
  },
  {
   "cell_type": "code",
   "execution_count": 19,
   "metadata": {
    "collapsed": true
   },
   "outputs": [],
   "source": [
    "dump_svmlight_file(X_pca_valid,valid_label,'valid.input', multilabel=False)"
   ]
  },
  {
   "cell_type": "code",
   "execution_count": null,
   "metadata": {
    "collapsed": true
   },
   "outputs": [],
   "source": []
  }
 ],
 "metadata": {
  "kernelspec": {
   "display_name": "Python 3",
   "language": "python",
   "name": "python3"
  },
  "language_info": {
   "codemirror_mode": {
    "name": "ipython",
    "version": 3
   },
   "file_extension": ".py",
   "mimetype": "text/x-python",
   "name": "python",
   "nbconvert_exporter": "python",
   "pygments_lexer": "ipython3",
   "version": "3.6.3"
  }
 },
 "nbformat": 4,
 "nbformat_minor": 2
}
