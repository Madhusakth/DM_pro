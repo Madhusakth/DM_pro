{
 "cells": [
  {
   "cell_type": "code",
   "execution_count": 1,
   "metadata": {},
   "outputs": [],
   "source": [
    "from PIL import Image\n",
    "from array import array\n",
    "import numpy as np\n",
    "from sklearn.decomposition import PCA\n",
    "from sklearn.preprocessing import StandardScaler"
   ]
  },
  {
   "cell_type": "code",
   "execution_count": 4,
   "metadata": {},
   "outputs": [],
   "source": [
    "input_image = Image.open('../training-images/0000523e34f86fc3.jpg').convert('L').resize((256, 256))\n",
    "matrix = np.array(input_image.getdata()).reshape(input_image.size)"
   ]
  },
  {
   "cell_type": "code",
   "execution_count": 6,
   "metadata": {},
   "outputs": [
    {
     "name": "stdout",
     "output_type": "stream",
     "text": [
      "[  8.27363842e-01   7.12258069e-02   3.74789436e-02   1.47741723e-02\n",
      "   9.32324651e-03   4.72333480e-03   3.85486798e-03   3.13275230e-03\n",
      "   2.22586195e-03   1.87476534e-03   1.81885988e-03   1.41972396e-03\n",
      "   1.23497539e-03   1.03749334e-03   9.39068882e-04   8.63225340e-04\n",
      "   8.01428766e-04   7.74235341e-04   6.72894154e-04   6.44401372e-04]\n"
     ]
    },
    {
     "name": "stderr",
     "output_type": "stream",
     "text": [
      "C:\\Users\\rimra\\Anaconda3\\lib\\site-packages\\sklearn\\utils\\validation.py:444: DataConversionWarning: Data with input dtype int32 was converted to float64 by StandardScaler.\n",
      "  warnings.warn(msg, DataConversionWarning)\n"
     ]
    }
   ],
   "source": [
    "scaler = StandardScaler()\n",
    "scaler.fit(matrix)\n",
    "X_sca = scaler.transform(matrix)\n",
    "\n",
    "\n",
    "pca = PCA(n_components=20)\n",
    "X_pca = pca.fit_transform(X_sca)\n",
    "print(pca.explained_variance_ratio_)\n",
    "\n",
    "#choosing the top 20 components for X and make it 256x20"
   ]
  },
  {
   "cell_type": "code",
   "execution_count": null,
   "metadata": {},
   "outputs": [],
   "source": []
  },
  {
   "cell_type": "code",
   "execution_count": null,
   "metadata": {
    "collapsed": true
   },
   "outputs": [],
   "source": []
  }
 ],
 "metadata": {
  "kernelspec": {
   "display_name": "Python 3",
   "language": "python",
   "name": "python3"
  },
  "language_info": {
   "codemirror_mode": {
    "name": "ipython",
    "version": 3
   },
   "file_extension": ".py",
   "mimetype": "text/x-python",
   "name": "python",
   "nbconvert_exporter": "python",
   "pygments_lexer": "ipython3",
   "version": "3.6.3"
  }
 },
 "nbformat": 4,
 "nbformat_minor": 2
}
