{
 "cells": [
  {
   "cell_type": "code",
   "execution_count": 2,
   "metadata": {},
   "outputs": [
    {
     "name": "stdout",
     "output_type": "stream",
     "text": [
      "[9633, 6051, 6599, 9779, 2061, 5554, 6651, 6696, 5376, 2743]\n",
      "Loading Images\n",
      "(179828, 2048)\n",
      "(143862, 2048)\n",
      "(35966, 2048)\n",
      "Done!\n"
     ]
    }
   ],
   "source": [
    "import csv\n",
    "import operator\n",
    "import numpy as np\n",
    "from PIL import Image\n",
    "import os, os.path\n",
    "from sklearn.model_selection import train_test_split\n",
    "from collections import Counter\n",
    "\n",
    "preprocessedPath = 'D:/preprocessed'\n",
    "arr = []\n",
    "inputs = []\n",
    "train_Y = []\n",
    "csvfile = open('D:/train.csv', 'r')\n",
    "csvreader = csv.reader(csvfile)\n",
    "data = [line[:3] for line in csvreader]\n",
    "wale=[]\n",
    "for entry in data:\n",
    "    wale.append(entry[2])\n",
    "rows=Counter(wale).most_common(10)\n",
    "topper = [x for x,_ in rows]\n",
    "usman=[]\n",
    "for i in range(10):\n",
    "    usman.append(int(topper[i]))\n",
    "print(usman)\n",
    "\n",
    "print('Loading Images')\n",
    "data = data[1:]\n",
    "data = sorted(data, key=operator.itemgetter(0))\n",
    "i = 0\n",
    "kk = 0\n",
    "\n",
    "for filename in os.listdir(preprocessedPath):\n",
    "    arr.extend(np.load(os.path.join(preprocessedPath, filename)))\n",
    "path = 'D:/training'\n",
    "for entry in data:\n",
    "    if ((int(entry[2]) not in usman) or (int(entry[2]) < 0)):\n",
    "        i = i + 1\n",
    "        kk = kk + 1\n",
    "        continue\n",
    "    try:\n",
    "        filename = entry[0] + '.jpg'\n",
    "        im = Image.open(os.path.join(path, filename))\n",
    "        inputs.append(arr[kk])\n",
    "        train_Y.append(int(entry[2]))\n",
    "        i = i + 1\n",
    "        kk = kk + 1\n",
    "\n",
    "    except Exception as e:\n",
    "        #print('Can not identify file %s' %(filename))\n",
    "        i = i + 1\n",
    "\n",
    "train_X = np.array(inputs)\n",
    "print(train_X.shape)\n",
    "\n",
    "train_X, valid_X, train_label, valid_label = train_test_split(train_X, train_Y, test_size=0.2, random_state=13)\n",
    "print(train_X.shape)\n",
    "print(valid_X.shape)\n",
    "\n",
    "from sklearn.datasets import dump_svmlight_file\n",
    "dump_svmlight_file(train_X,train_label,'train', zero_based=True, multilabel=False)\n",
    "dump_svmlight_file(valid_X,valid_label,'valid', zero_based=True, multilabel=False)\n",
    "print(\"Done!\")"
   ]
  },
  {
   "cell_type": "code",
   "execution_count": null,
   "metadata": {},
   "outputs": [],
   "source": []
  }
 ],
 "metadata": {
  "kernelspec": {
   "display_name": "Python 3",
   "language": "python",
   "name": "python3"
  },
  "language_info": {
   "codemirror_mode": {
    "name": "ipython",
    "version": 3
   },
   "file_extension": ".py",
   "mimetype": "text/x-python",
   "name": "python",
   "nbconvert_exporter": "python",
   "pygments_lexer": "ipython3",
   "version": "3.6.4"
  }
 },
 "nbformat": 4,
 "nbformat_minor": 2
}
