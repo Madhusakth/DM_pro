{
 "cells": [
  {
   "cell_type": "code",
   "execution_count": 1,
   "metadata": {
    "collapsed": true
   },
   "outputs": [],
   "source": [
    "import sys\n",
    "sys.path.append(\"/Users/vasanti/miniconda2/lib/python2.7/site-packages\")\n",
    "% matplotlib inline"
   ]
  },
  {
   "cell_type": "code",
   "execution_count": 38,
   "metadata": {
    "collapsed": false
   },
   "outputs": [],
   "source": [
    "from PIL import Image\n",
    "from array import array\n",
    "import numpy as np\n",
    "from sklearn.decomposition import PCA\n",
    "from sklearn.preprocessing import StandardScaler"
   ]
  },
  {
   "cell_type": "code",
   "execution_count": 39,
   "metadata": {
    "collapsed": false
   },
   "outputs": [],
   "source": [
    "input_image = Image.open('70761397.jpg').convert('L').resize((256, 256))\n",
    "matrix = np.array(input_image.getdata()).reshape(input_image.size)"
   ]
  },
  {
   "cell_type": "code",
   "execution_count": 40,
   "metadata": {
    "collapsed": false
   },
   "outputs": [
    {
     "name": "stdout",
     "output_type": "stream",
     "text": [
      "[ 0.64416688  0.1594002   0.03308713  0.02881032  0.01162369  0.00796056\n",
      "  0.00677966  0.00649506  0.00599574  0.00559687  0.00452172  0.00429459\n",
      "  0.00366401  0.00338368  0.00290882  0.00280915  0.00269901  0.00254749\n",
      "  0.00239183  0.00235852]\n"
     ]
    }
   ],
   "source": [
    "scaler = StandardScaler()\n",
    "scaler.fit(matrix)\n",
    "X_sca = scaler.transform(matrix)\n",
    "\n",
    "\n",
    "pca = PCA(n_components=20)\n",
    "X_pca = pca.fit_transform(X_sca)\n",
    "print pca.explained_variance_ratio_\n",
    "\n",
    "#choosing the top 20 components for X and make it 256x20"
   ]
  },
  {
   "cell_type": "code",
   "execution_count": null,
   "metadata": {
    "collapsed": false
   },
   "outputs": [],
   "source": []
  },
  {
   "cell_type": "code",
   "execution_count": null,
   "metadata": {
    "collapsed": true
   },
   "outputs": [],
   "source": []
  }
 ],
 "metadata": {
  "kernelspec": {
   "display_name": "Python 2",
   "language": "python",
   "name": "python2"
  },
  "language_info": {
   "codemirror_mode": {
    "name": "ipython",
    "version": 2
   },
   "file_extension": ".py",
   "mimetype": "text/x-python",
   "name": "python",
   "nbconvert_exporter": "python",
   "pygments_lexer": "ipython2",
   "version": "2.7.11"
  }
 },
 "nbformat": 4,
 "nbformat_minor": 2
}
