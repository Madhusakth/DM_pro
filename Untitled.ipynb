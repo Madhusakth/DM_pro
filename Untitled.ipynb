{
 "cells": [
  {
   "cell_type": "code",
   "execution_count": 2,
   "metadata": {},
   "outputs": [
    {
     "name": "stdout",
     "output_type": "stream",
     "text": [
      "Original Image\n",
      "[[[221. 212. 205.]\n",
      "  [221. 212. 205.]\n",
      "  [221. 212. 205.]\n",
      "  ...\n",
      "  [218. 213. 210.]\n",
      "  [218. 213. 210.]\n",
      "  [218. 213. 210.]]\n",
      "\n",
      " [[218. 213. 210.]\n",
      "  [215. 211. 202.]\n",
      "  [215. 211. 202.]\n",
      "  ...\n",
      "  [195. 197. 186.]\n",
      "  [195. 197. 186.]\n",
      "  [196. 196. 186.]]\n",
      "\n",
      " [[195. 195. 185.]\n",
      "  [193. 193. 183.]\n",
      "  [196. 193. 184.]\n",
      "  ...\n",
      "  [181. 178. 159.]\n",
      "  [181. 178. 159.]\n",
      "  [181. 178. 159.]]\n",
      "\n",
      " ...\n",
      "\n",
      " [[181. 196.  41.]\n",
      "  [181. 196.  41.]\n",
      "  [180. 195.  40.]\n",
      "  ...\n",
      "  [209. 200. 193.]\n",
      "  [209. 200. 193.]\n",
      "  [209. 200. 193.]]\n",
      "\n",
      " [[206. 202. 193.]\n",
      "  [206. 202. 193.]\n",
      "  [206. 202. 193.]\n",
      "  ...\n",
      "  [195. 190. 187.]\n",
      "  [196. 191. 188.]\n",
      "  [196. 191. 188.]]\n",
      "\n",
      " [[195. 190. 187.]\n",
      "  [195. 190. 187.]\n",
      "  [196. 191. 188.]\n",
      "  ...\n",
      "  [216. 202. 193.]\n",
      "  [216. 202. 193.]\n",
      "  [216. 202. 193.]]]\n",
      "Transformed Image\n",
      "[[213 213 213 ... 214 214 214]\n",
      " [214 211 211 ... 195 195 194]\n",
      " [193 191 192 ... 176 176 176]\n",
      " ...\n",
      " [173 173 172 ... 201 201 201]\n",
      " [202 202 202 ... 191 192 192]\n",
      " [191 191 192 ... 205 205 205]]\n"
     ]
    }
   ],
   "source": [
    "from PIL import Image\n",
    "from array import array\n",
    "import numpy as np\n",
    "%matplotlib inline  \n",
    "\n",
    "image = Image.open(\"mkf97.jpg\")\n",
    "print(\"Original Image\")\n",
    "\n",
    "a = np.array(image.getdata()).astype(np.float32).reshape( (image.size[0],image.size[1],3) )\n",
    "print(a)\n",
    "\n",
    "im = image.convert('L')\n",
    "\n",
    "matrix = np.array(im.getdata()).reshape(im.size)\n",
    "print(\"Transformed Image\")\n",
    "print(matrix)"
   ]
  }
 ],
 "metadata": {
  "kernelspec": {
   "display_name": "Python 3",
   "language": "python",
   "name": "python3"
  },
  "language_info": {
   "codemirror_mode": {
    "name": "ipython",
    "version": 3
   },
   "file_extension": ".py",
   "mimetype": "text/x-python",
   "name": "python",
   "nbconvert_exporter": "python",
   "pygments_lexer": "ipython3",
   "version": "3.6.4"
  }
 },
 "nbformat": 4,
 "nbformat_minor": 2
}
