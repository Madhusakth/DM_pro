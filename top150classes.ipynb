{
 "cells": [
  {
   "cell_type": "code",
   "execution_count": null,
   "metadata": {},
   "outputs": [
    {
     "name": "stdout",
     "output_type": "stream",
     "text": [
      "Preprocessing Images\n",
      "[9633, 6051, 6599, 9779, 2061, 5554, 6651, 6696, 5376, 2743, 4352, 13526, 1553, 10900, 8063, 8429, 4987, 12220, 11784, 2949, 12718, 3804, 10184, 7092, 10045, 2338, 12172, 3924, 428, 9029, 10932, 1878, 10026, 3497, 2044, 3283, 5367, 9434, 7661, 7172, 2870, 11249, 13653, 13170, 6231, 8169, 10033, 5955, 2449, 1847, 11371, 233, 165, 1946, 10511, 1602, 2241, 13475, 13444, 1472, 8274, 13873, 2444, 12972, 3130, 7000, 13594, 4300, 4085, 5460, 13876, 5046, 12676, 10577, 4981, 13332, 878, 2341, 1213, 7041, 7008, 6476, 960, 152, 9999, 1546, 7764, 4644, 9605, 7420, 4954, 6597, 5475, 3426, 3065, 1310, 5166, 5421, 6347, 12966, 11536, 12647, 9296, 2145, 10005, 10644, 12965, 7840, 6846, 3034, 10496, 13471, 5618, 5206, 7130, 2246, 11073, 12937, 14703, 4949, 12752, 6973, 253, 10313, 9738, 10067, 2665, 10688, 12075, 9135, 7416, 10600, 1834, 14111, 11037, 4793, 13176, 6125, 8161, 4330, 3518, 2330, 2802, 7218, 5880, 10028, 2126, 8143, 762, 10522]\n"
     ]
    }
   ],
   "source": [
    "import csv\n",
    "import numpy as np\n",
    "from PIL import Image\n",
    "import os, os.path\n",
    "from sklearn.model_selection import train_test_split\n",
    "\n",
    "numSamples = {}\n",
    "topClasses = []\n",
    "inputs = []\n",
    "train_Y = []\n",
    "\n",
    "print('Preprocessing Images')\n",
    "csvfile = open('../train.csv', 'r')\n",
    "csvreader = csv.reader(csvfile)\n",
    "data = [line[:3] for line in csvreader]\n",
    "data = data[1:]\n",
    "i = 0\n",
    "\n",
    "for entry in data:\n",
    "    classVal = int(entry[2])\n",
    "    numSamples[classVal] = numSamples.get(classVal, 0) + 1\n",
    "\n",
    "temp = sorted(numSamples, key=numSamples.get, reverse=True)\n",
    "topClasses = temp[:150]\n",
    "print(topClasses)\n",
    "\n",
    "path = '../training-images'\n",
    "#print(os.listdir(path))\n",
    "for filename in os.listdir(path):\n",
    "    entry = int(data[i][2])\n",
    "    if entry not in topClasses:\n",
    "        i = i + 1\n",
    "        continue\n",
    "\n",
    "    try:\n",
    "        im = Image.open(os.path.join(path, filename)).convert('L')\n",
    "        im_data = list(im.getdata())\n",
    "        #arr = np.array(im)\n",
    "        #arr = arr[:,:,0]\n",
    "        #arr = arr.astype('float16')\n",
    "        #arr = arr / 255.\n",
    "        inputs.append(im_data)\n",
    "        train_Y.append(entry)\n",
    "        i = i + 1\n",
    "    except Exception as e:\n",
    "        print('Can not identify file %s' %(filename))\n",
    "        i = i + 1\n",
    "\n",
    "train_X = np.array(inputs)\n",
    "print(train_X.shape)\n",
    "#train_X = train_X.reshape(-1, 256, 256, 1)\n",
    "\n",
    "train_X,valid_X,train_label,valid_label = train_test_split(train_X, train_Y, test_size=0.2, random_state=13)\n",
    "print(train_X.shape)\n",
    "print(valid_X.shape)\n"
   ]
  },
  {
   "cell_type": "code",
   "execution_count": null,
   "metadata": {
    "collapsed": true
   },
   "outputs": [],
   "source": [
    "print(\"Working!\")\n",
    "print(train_X.shape)"
   ]
  },
  {
   "cell_type": "code",
   "execution_count": null,
   "metadata": {
    "collapsed": true
   },
   "outputs": [],
   "source": [
    "from sklearn.decomposition import PCA\n",
    "pca = PCA(n_components=20)\n",
    "pca = pca.fit(train_X)\n",
    "X_pca_train = pca.transform(train_X)\n",
    "X_pca_valid = pca.transform(valid_X)"
   ]
  },
  {
   "cell_type": "code",
   "execution_count": null,
   "metadata": {
    "collapsed": true
   },
   "outputs": [],
   "source": [
    "from sklearn.datasets import dump_svmlight_file\n",
    "dump_svmlight_file(X_pca_train,train_label,'train150.input', multilabel=False)\n",
    "dump_svmlight_file(X_pca_valid,valid_label,'valid150.input', multilabel=False)"
   ]
  },
  {
   "cell_type": "code",
   "execution_count": null,
   "metadata": {
    "collapsed": true
   },
   "outputs": [],
   "source": []
  }
 ],
 "metadata": {
  "kernelspec": {
   "display_name": "Python 3",
   "language": "python",
   "name": "python3"
  },
  "language_info": {
   "codemirror_mode": {
    "name": "ipython",
    "version": 3
   },
   "file_extension": ".py",
   "mimetype": "text/x-python",
   "name": "python",
   "nbconvert_exporter": "python",
   "pygments_lexer": "ipython3",
   "version": "3.6.3"
  }
 },
 "nbformat": 4,
 "nbformat_minor": 2
}
