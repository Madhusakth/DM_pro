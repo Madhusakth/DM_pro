{
 "cells": [
  {
   "cell_type": "code",
   "execution_count": 1,
   "metadata": {
    "collapsed": true
   },
   "outputs": [],
   "source": [
    "from PIL import Image\n",
    "from array import array\n",
    "import numpy as np\n",
    "from sklearn.decomposition import PCA\n",
    "from sklearn.preprocessing import StandardScaler"
   ]
  },
  {
   "cell_type": "code",
   "execution_count": 4,
   "metadata": {
    "collapsed": true
   },
   "outputs": [],
   "source": [
    "input_image = Image.open('../training-images/0000523e34f86fc3.jpg').convert('L').resize((256, 256))\n",
    "matrix = np.array(input_image.getdata()).reshape(input_image.size)"
   ]
  },
  {
   "cell_type": "code",
   "execution_count": 6,
   "metadata": {},
   "outputs": [
    {
     "name": "stdout",
     "output_type": "stream",
     "text": [
      "[  8.27363842e-01   7.12258069e-02   3.74789436e-02   1.47741723e-02\n",
      "   9.32324651e-03   4.72333480e-03   3.85486798e-03   3.13275230e-03\n",
      "   2.22586195e-03   1.87476534e-03   1.81885988e-03   1.41972396e-03\n",
      "   1.23497539e-03   1.03749334e-03   9.39068882e-04   8.63225340e-04\n",
      "   8.01428766e-04   7.74235341e-04   6.72894154e-04   6.44401372e-04]\n"
     ]
    },
    {
     "name": "stderr",
     "output_type": "stream",
     "text": [
      "C:\\Users\\rimra\\Anaconda3\\lib\\site-packages\\sklearn\\utils\\validation.py:444: DataConversionWarning: Data with input dtype int32 was converted to float64 by StandardScaler.\n",
      "  warnings.warn(msg, DataConversionWarning)\n"
     ]
    }
   ],
   "source": [
    "scaler = StandardScaler()\n",
    "scaler.fit(matrix)\n",
    "X_sca = scaler.transform(matrix)\n",
    "\n",
    "\n",
    "pca = PCA(n_components=20)\n",
    "X_pca = pca.fit_transform(X_sca)\n",
    "print(pca.explained_variance_ratio_)\n",
    "\n",
    "#choosing the top 20 components for X and make it 256x20"
   ]
  },
  {
   "cell_type": "code",
   "execution_count": 1,
   "metadata": {
    "collapsed": true
   },
   "outputs": [],
   "source": [
    "import pandas as pd\n",
    "import numpy as np\n",
    "data_csv = pd.read_csv(\"../train.csv\")"
   ]
  },
  {
   "cell_type": "code",
   "execution_count": 2,
   "metadata": {},
   "outputs": [
    {
     "name": "stdout",
     "output_type": "stream",
     "text": [
      "(1225029,)\n"
     ]
    }
   ],
   "source": [
    "landmarks = data_csv.landmark_id\n",
    "print(landmarks.shape)"
   ]
  },
  {
   "cell_type": "code",
   "execution_count": 3,
   "metadata": {},
   "outputs": [],
   "source": [
    "from collections import Counter\n",
    "counts = Counter(landmarks)"
   ]
  },
  {
   "cell_type": "code",
   "execution_count": 4,
   "metadata": {},
   "outputs": [
    {
     "data": {
      "text/plain": [
       "[(9633, 50337),\n",
       " (6051, 50148),\n",
       " (6599, 23415),\n",
       " (9779, 18471),\n",
       " (2061, 13271),\n",
       " (5554, 11147),\n",
       " (6651, 9508),\n",
       " (6696, 9222),\n",
       " (5376, 9216),\n",
       " (2743, 8997),\n",
       " (4352, 8993),\n",
       " (13526, 8667),\n",
       " (1553, 7814),\n",
       " (10900, 7038),\n",
       " (8063, 6662),\n",
       " (8429, 6426),\n",
       " (4987, 5358),\n",
       " (12220, 5313),\n",
       " (11784, 5259),\n",
       " (2949, 4919),\n",
       " (12718, 3810),\n",
       " (3804, 3695),\n",
       " (10184, 3622),\n",
       " (7092, 3543),\n",
       " (10045, 3452),\n",
       " (2338, 3427),\n",
       " (12172, 3376),\n",
       " (3924, 3363),\n",
       " (428, 3171),\n",
       " (9029, 2603),\n",
       " (10932, 2387),\n",
       " (1878, 2358),\n",
       " (10026, 2224),\n",
       " (3497, 2036),\n",
       " (2044, 1998),\n",
       " (3283, 1992),\n",
       " (5367, 1983),\n",
       " (9434, 1942),\n",
       " (7661, 1877),\n",
       " (7172, 1868),\n",
       " (2870, 1824),\n",
       " (11249, 1811),\n",
       " (13653, 1790),\n",
       " (13170, 1781),\n",
       " (6231, 1760),\n",
       " (8169, 1755),\n",
       " (10033, 1731),\n",
       " (5955, 1718),\n",
       " (2449, 1710),\n",
       " (1847, 1686),\n",
       " (11371, 1654),\n",
       " (233, 1602),\n",
       " (165, 1599),\n",
       " (1946, 1561),\n",
       " (10511, 1548),\n",
       " (1602, 1516),\n",
       " (2241, 1477),\n",
       " (13475, 1459),\n",
       " (13444, 1457),\n",
       " (1472, 1455),\n",
       " (8274, 1427),\n",
       " (13873, 1422),\n",
       " (2444, 1417),\n",
       " (12972, 1399),\n",
       " (3130, 1386),\n",
       " (7000, 1385),\n",
       " (13594, 1371),\n",
       " (4300, 1371),\n",
       " (4085, 1360),\n",
       " (5460, 1354),\n",
       " (13876, 1348),\n",
       " (5046, 1347),\n",
       " (12676, 1344),\n",
       " (10577, 1313),\n",
       " (4981, 1309),\n",
       " (13332, 1303),\n",
       " (878, 1299),\n",
       " (2341, 1290),\n",
       " (1213, 1285),\n",
       " (7041, 1273),\n",
       " (7008, 1252),\n",
       " (6476, 1242),\n",
       " (960, 1232),\n",
       " (152, 1218),\n",
       " (9999, 1213),\n",
       " (1546, 1193),\n",
       " (7764, 1191),\n",
       " (4644, 1183),\n",
       " (9605, 1179),\n",
       " (7420, 1163),\n",
       " (4954, 1160),\n",
       " (6597, 1151),\n",
       " (5475, 1141),\n",
       " (3426, 1139),\n",
       " (3065, 1115),\n",
       " (1310, 1112),\n",
       " (5166, 1106),\n",
       " (5421, 1097),\n",
       " (6347, 1096),\n",
       " (12966, 1094),\n",
       " (11536, 1094),\n",
       " (12647, 1085),\n",
       " (9296, 1081),\n",
       " (2145, 1081),\n",
       " (10005, 1073),\n",
       " (10644, 1072),\n",
       " (12965, 1057),\n",
       " (7840, 1053),\n",
       " (6846, 1052),\n",
       " (3034, 1052),\n",
       " (10496, 1049),\n",
       " (13471, 1046),\n",
       " (5618, 1043),\n",
       " (5206, 1031),\n",
       " (7130, 1020),\n",
       " (2246, 1015),\n",
       " (11073, 1006),\n",
       " (12937, 1000),\n",
       " (14703, 994),\n",
       " (4949, 990),\n",
       " (12752, 987),\n",
       " (6973, 986),\n",
       " (253, 985),\n",
       " (10313, 979),\n",
       " (9738, 978),\n",
       " (10067, 972),\n",
       " (2665, 972),\n",
       " (10688, 971),\n",
       " (12075, 961),\n",
       " (9135, 944),\n",
       " (7416, 943),\n",
       " (10600, 942),\n",
       " (1834, 939),\n",
       " (14111, 926),\n",
       " (11037, 926),\n",
       " (4793, 923),\n",
       " (13176, 923),\n",
       " (6125, 923),\n",
       " (8161, 921),\n",
       " (4330, 915),\n",
       " (3518, 914),\n",
       " (2330, 911),\n",
       " (2802, 902),\n",
       " (7218, 901),\n",
       " (5880, 898),\n",
       " (10028, 895),\n",
       " (2126, 892),\n",
       " (8143, 891),\n",
       " (762, 891),\n",
       " (10522, 888)]"
      ]
     },
     "execution_count": 4,
     "metadata": {},
     "output_type": "execute_result"
    }
   ],
   "source": [
    "counts.most_common(150)"
   ]
  },
  {
   "cell_type": "code",
   "execution_count": 5,
   "metadata": {
    "collapsed": true
   },
   "outputs": [],
   "source": [
    "top_150_landmarks = []\n",
    "for c in counts.most_common(150):\n",
    "    top_150_landmarks.append(c[0])"
   ]
  },
  {
   "cell_type": "code",
   "execution_count": 6,
   "metadata": {
    "collapsed": true
   },
   "outputs": [],
   "source": [
    "def read_image_array(image_path):\n",
    "    im = Image.open(image_path).convert('L')\n",
    "    im_data = np.asarray(im).ravel()\n",
    "    im_data = im_data\n",
    "    return im_data\n",
    "\n",
    "def read_image_list(image_path):\n",
    "    im = Image.open(image_path).convert('L')\n",
    "    im_data = list(im.getdata())\n",
    "    return im_data"
   ]
  },
  {
   "cell_type": "code",
   "execution_count": null,
   "metadata": {
    "collapsed": true
   },
   "outputs": [],
   "source": [
    "import glob\n",
    "import os\n",
    "\n",
    "X = []\n",
    "Y = [] \n",
    "folder_path = glob.glob(os.getcwd() + '\\\\..\\\\training-images\\\\')\n",
    "for row in data_csv.itertuples():\n",
    "     print(row)\n",
    "   # if row[1] in top_150_landmarks:\n",
    "   #     image_name = row[0] \n",
    "   #     image_path = folder_path + image_name + \".jpg\"\n",
    "   #     print(image_path)\n",
    "        #data = [image_path.split('\\\\')[-1]] + read_image_list(image_path)\n",
    "        #X.append(data)\n",
    "        #Y.append(row['landmark_id'])        "
   ]
  },
  {
   "cell_type": "code",
   "execution_count": null,
   "metadata": {
    "collapsed": true
   },
   "outputs": [],
   "source": []
  }
 ],
 "metadata": {
  "kernelspec": {
   "display_name": "Python 3",
   "language": "python",
   "name": "python3"
  },
  "language_info": {
   "codemirror_mode": {
    "name": "ipython",
    "version": 3
   },
   "file_extension": ".py",
   "mimetype": "text/x-python",
   "name": "python",
   "nbconvert_exporter": "python",
   "pygments_lexer": "ipython3",
   "version": "3.6.3"
  }
 },
 "nbformat": 4,
 "nbformat_minor": 2
}
