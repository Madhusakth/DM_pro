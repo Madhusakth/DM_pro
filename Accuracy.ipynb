{
 "cells": [
  {
   "cell_type": "code",
   "execution_count": 9,
   "metadata": {},
   "outputs": [
    {
     "name": "stdout",
     "output_type": "stream",
     "text": [
      "81616\n",
      "81616\n",
      "Accuracy is  24.038178788472848\n"
     ]
    }
   ],
   "source": [
    "counter=0\n",
    "import re\n",
    "result=[]\n",
    "import string\n",
    "import heapq\n",
    "with open(\"validl\") as f:\n",
    "    for line in f:\n",
    "        dict={}\n",
    "        counter=counter+1\n",
    "       # print(counter)\n",
    "        if(counter>1):\n",
    "            #print(line)\n",
    "            temp=line.split()\n",
    "            for i in range(len(temp)):\n",
    "                twoword=re.split('[-:]', temp[i])\n",
    "                dict.update({twoword[0]:twoword[1]})\n",
    "            result.append(max(dict.items(), key = lambda x: x[1])[0])\n",
    "#print(result)\n",
    "original=[]\n",
    "counter=0\n",
    "with open(\"right\") as f:\n",
    "    for line in f:\n",
    "        dict={}\n",
    "        counter=counter+1\n",
    "      #  print(counter)\n",
    "        if(counter>1):\n",
    "            #print(line)\n",
    "            temp=line.split()\n",
    "            for i in range(len(temp)):\n",
    "                twoword=re.split('[-:]', temp[i])\n",
    "                dict.update({twoword[0]:twoword[1]})\n",
    "            #print()\n",
    "            original.append(heapq.nlargest(1, dict, key=dict.get))\n",
    "            #print(original)\n",
    "print(len(result))    \n",
    "\n",
    "accuracy=0\n",
    "for i in range(len(result)):\n",
    "    if(result[i] in original[i]):\n",
    "        accuracy=accuracy+1\n",
    "print(len(original))\n",
    "print(\"Accuracy is \", 100*accuracy/len(original))\n",
    "    \n",
    "    \n",
    "    \n",
    "    \n",
    "    \n",
    "    "
   ]
  }
 ],
 "metadata": {
  "kernelspec": {
   "display_name": "Python 3",
   "language": "python",
   "name": "python3"
  },
  "language_info": {
   "codemirror_mode": {
    "name": "ipython",
    "version": 3
   },
   "file_extension": ".py",
   "mimetype": "text/x-python",
   "name": "python",
   "nbconvert_exporter": "python",
   "pygments_lexer": "ipython3",
   "version": "3.6.4"
  }
 },
 "nbformat": 4,
 "nbformat_minor": 2
}
